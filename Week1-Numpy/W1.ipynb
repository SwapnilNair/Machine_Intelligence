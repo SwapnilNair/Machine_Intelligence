{
 "cells": [
  {
   "cell_type": "code",
   "execution_count": 14,
   "id": "c4f0d4cd",
   "metadata": {},
   "outputs": [],
   "source": [
    "import pandas as pd\n",
    "import numpy as np"
   ]
  },
  {
   "cell_type": "code",
   "execution_count": 161,
   "id": "ff1ed44b",
   "metadata": {},
   "outputs": [
    {
     "name": "stdout",
     "output_type": "stream",
     "text": [
      "['SL.No', 'Attribute A', 'Attribute B', 'Attribute C']\n"
     ]
    }
   ],
   "source": [
    "df=pd.read_csv(\"example.csv\")\n",
    "df2 = df.copy()\n",
    "print(list(df.columns))"
   ]
  },
  {
   "cell_type": "code",
   "execution_count": 3,
   "id": "39605f54",
   "metadata": {},
   "outputs": [
    {
     "name": "stdout",
     "output_type": "stream",
     "text": [
      "0      1\n",
      "1      2\n",
      "2      3\n",
      "3      4\n",
      "4      5\n",
      "5      6\n",
      "6      7\n",
      "7      8\n",
      "8      9\n",
      "9     10\n",
      "10    11\n",
      "11    12\n",
      "12    13\n",
      "13    14\n",
      "14    15\n",
      "Name: SL.No, dtype: int64\n"
     ]
    }
   ],
   "source": [
    "print(df[\"SL.No\"])"
   ]
  },
  {
   "cell_type": "code",
   "execution_count": 4,
   "id": "a9920878",
   "metadata": {},
   "outputs": [
    {
     "name": "stdout",
     "output_type": "stream",
     "text": [
      "[1, 12.0, 44, 'A']\n"
     ]
    }
   ],
   "source": [
    "print(list(df.iloc[0])) # printing rows"
   ]
  },
  {
   "cell_type": "code",
   "execution_count": 5,
   "id": "889da033",
   "metadata": {},
   "outputs": [
    {
     "name": "stdout",
     "output_type": "stream",
     "text": [
      "[1, 2, 3, 4, 5, 6, 7, 8, 9, 10, 11, 12, 13, 14, 15]\n"
     ]
    }
   ],
   "source": [
    "print(list(df.iloc[:,0])) #printing column data"
   ]
  },
  {
   "cell_type": "code",
   "execution_count": 6,
   "id": "4db5a4f5",
   "metadata": {},
   "outputs": [
    {
     "name": "stdout",
     "output_type": "stream",
     "text": [
      "   SL.No  Attribute A  Attribute B Attribute C\n",
      "0      1         12.0           44           A\n",
      "1      2          NaN           22           B\n"
     ]
    }
   ],
   "source": [
    "print(df[0:2]) "
   ]
  },
  {
   "cell_type": "code",
   "execution_count": 7,
   "id": "322f449d",
   "metadata": {},
   "outputs": [
    {
     "data": {
      "text/html": [
       "<div>\n",
       "<style scoped>\n",
       "    .dataframe tbody tr th:only-of-type {\n",
       "        vertical-align: middle;\n",
       "    }\n",
       "\n",
       "    .dataframe tbody tr th {\n",
       "        vertical-align: top;\n",
       "    }\n",
       "\n",
       "    .dataframe thead th {\n",
       "        text-align: right;\n",
       "    }\n",
       "</style>\n",
       "<table border=\"1\" class=\"dataframe\">\n",
       "  <thead>\n",
       "    <tr style=\"text-align: right;\">\n",
       "      <th></th>\n",
       "      <th>SL.No</th>\n",
       "      <th>Attribute A</th>\n",
       "      <th>Attribute B</th>\n",
       "      <th>Attribute C</th>\n",
       "    </tr>\n",
       "  </thead>\n",
       "  <tbody>\n",
       "    <tr>\n",
       "      <th>0</th>\n",
       "      <td>1</td>\n",
       "      <td>12.0</td>\n",
       "      <td>44</td>\n",
       "      <td>A</td>\n",
       "    </tr>\n",
       "    <tr>\n",
       "      <th>1</th>\n",
       "      <td>2</td>\n",
       "      <td>NaN</td>\n",
       "      <td>22</td>\n",
       "      <td>B</td>\n",
       "    </tr>\n",
       "    <tr>\n",
       "      <th>2</th>\n",
       "      <td>3</td>\n",
       "      <td>31.0</td>\n",
       "      <td>13</td>\n",
       "      <td>A</td>\n",
       "    </tr>\n",
       "    <tr>\n",
       "      <th>3</th>\n",
       "      <td>4</td>\n",
       "      <td>19.0</td>\n",
       "      <td>13</td>\n",
       "      <td>C</td>\n",
       "    </tr>\n",
       "  </tbody>\n",
       "</table>\n",
       "</div>"
      ],
      "text/plain": [
       "   SL.No  Attribute A  Attribute B Attribute C\n",
       "0      1         12.0           44           A\n",
       "1      2          NaN           22           B\n",
       "2      3         31.0           13           A\n",
       "3      4         19.0           13           C"
      ]
     },
     "execution_count": 7,
     "metadata": {},
     "output_type": "execute_result"
    }
   ],
   "source": [
    "df.head(4)\n"
   ]
  },
  {
   "cell_type": "code",
   "execution_count": 8,
   "id": "a6402de4",
   "metadata": {},
   "outputs": [
    {
     "name": "stderr",
     "output_type": "stream",
     "text": [
      "/tmp/ipykernel_315664/1316249669.py:1: FutureWarning: Dropping of nuisance columns in DataFrame reductions (with 'numeric_only=None') is deprecated; in a future version this will raise TypeError.  Select only valid columns before calling the reduction.\n",
      "  df.mean(axis=1) #along columns\n"
     ]
    },
    {
     "data": {
      "text/plain": [
       "0     19.000000\n",
       "1     12.000000\n",
       "2     15.666667\n",
       "3     12.000000\n",
       "4     17.000000\n",
       "5     25.500000\n",
       "6     23.000000\n",
       "7     36.000000\n",
       "8     40.000000\n",
       "9     45.333333\n",
       "10    16.500000\n",
       "11    34.333333\n",
       "12    37.666667\n",
       "13    15.666667\n",
       "14    35.666667\n",
       "dtype: float64"
      ]
     },
     "execution_count": 8,
     "metadata": {},
     "output_type": "execute_result"
    }
   ],
   "source": [
    "df.mean(axis=1) #along columns"
   ]
  },
  {
   "cell_type": "code",
   "execution_count": 9,
   "id": "9d805a92",
   "metadata": {},
   "outputs": [
    {
     "name": "stderr",
     "output_type": "stream",
     "text": [
      "/tmp/ipykernel_315664/2681518468.py:1: FutureWarning: Dropping of nuisance columns in DataFrame reductions (with 'numeric_only=None') is deprecated; in a future version this will raise TypeError.  Select only valid columns before calling the reduction.\n",
      "  df.mean(axis=0)\n"
     ]
    },
    {
     "data": {
      "text/plain": [
       "SL.No           8.000000\n",
       "Attribute A    42.166667\n",
       "Attribute B    31.733333\n",
       "dtype: float64"
      ]
     },
     "execution_count": 9,
     "metadata": {},
     "output_type": "execute_result"
    }
   ],
   "source": [
    "df.mean(axis=0)"
   ]
  },
  {
   "cell_type": "code",
   "execution_count": 10,
   "id": "e93025c2",
   "metadata": {},
   "outputs": [
    {
     "name": "stdout",
     "output_type": "stream",
     "text": [
      "A     SL.No  Attribute A  Attribute B Attribute C\n",
      "0       1         12.0           44           A\n",
      "2       3         31.0           13           A\n",
      "4       5         22.0           24           A\n",
      "10     11          NaN           22           A\n",
      "12     13         33.0           67           A\n",
      "B    SL.No  Attribute A  Attribute B Attribute C\n",
      "1      2          NaN           22           B\n",
      "7      8         22.0           78           B\n",
      "9     10         81.0           45           B\n",
      "C     SL.No  Attribute A  Attribute B Attribute C\n",
      "3       4         19.0           13           C\n",
      "5       6          NaN           45           C\n",
      "6       7         41.0           21           C\n",
      "11     12         56.0           35           C\n",
      "13     14         21.0           12           C\n",
      "14     15         78.0           14           C\n"
     ]
    }
   ],
   "source": [
    "k = df.groupby(\"Attribute C\")\n",
    "for x,y in k:\n",
    "    print(x,y)"
   ]
  },
  {
   "cell_type": "code",
   "execution_count": 42,
   "id": "0d2bb869",
   "metadata": {
    "scrolled": true
   },
   "outputs": [
    {
     "data": {
      "text/html": [
       "<div>\n",
       "<style scoped>\n",
       "    .dataframe tbody tr th:only-of-type {\n",
       "        vertical-align: middle;\n",
       "    }\n",
       "\n",
       "    .dataframe tbody tr th {\n",
       "        vertical-align: top;\n",
       "    }\n",
       "\n",
       "    .dataframe thead th {\n",
       "        text-align: right;\n",
       "    }\n",
       "</style>\n",
       "<table border=\"1\" class=\"dataframe\">\n",
       "  <thead>\n",
       "    <tr style=\"text-align: right;\">\n",
       "      <th></th>\n",
       "      <th>SL.No</th>\n",
       "      <th>Attribute A</th>\n",
       "      <th>Attribute B</th>\n",
       "      <th>Attribute C</th>\n",
       "    </tr>\n",
       "  </thead>\n",
       "  <tbody>\n",
       "    <tr>\n",
       "      <th>0</th>\n",
       "      <td>1</td>\n",
       "      <td>12.0</td>\n",
       "      <td>44</td>\n",
       "      <td>A</td>\n",
       "    </tr>\n",
       "    <tr>\n",
       "      <th>1</th>\n",
       "      <td>2</td>\n",
       "      <td>42.0</td>\n",
       "      <td>22</td>\n",
       "      <td>B</td>\n",
       "    </tr>\n",
       "    <tr>\n",
       "      <th>2</th>\n",
       "      <td>3</td>\n",
       "      <td>31.0</td>\n",
       "      <td>13</td>\n",
       "      <td>A</td>\n",
       "    </tr>\n",
       "    <tr>\n",
       "      <th>3</th>\n",
       "      <td>4</td>\n",
       "      <td>19.0</td>\n",
       "      <td>13</td>\n",
       "      <td>C</td>\n",
       "    </tr>\n",
       "    <tr>\n",
       "      <th>4</th>\n",
       "      <td>5</td>\n",
       "      <td>22.0</td>\n",
       "      <td>24</td>\n",
       "      <td>A</td>\n",
       "    </tr>\n",
       "    <tr>\n",
       "      <th>5</th>\n",
       "      <td>6</td>\n",
       "      <td>42.0</td>\n",
       "      <td>45</td>\n",
       "      <td>C</td>\n",
       "    </tr>\n",
       "    <tr>\n",
       "      <th>6</th>\n",
       "      <td>7</td>\n",
       "      <td>41.0</td>\n",
       "      <td>21</td>\n",
       "      <td>C</td>\n",
       "    </tr>\n",
       "    <tr>\n",
       "      <th>7</th>\n",
       "      <td>8</td>\n",
       "      <td>22.0</td>\n",
       "      <td>78</td>\n",
       "      <td>B</td>\n",
       "    </tr>\n",
       "    <tr>\n",
       "      <th>8</th>\n",
       "      <td>9</td>\n",
       "      <td>90.0</td>\n",
       "      <td>21</td>\n",
       "      <td>42</td>\n",
       "    </tr>\n",
       "    <tr>\n",
       "      <th>9</th>\n",
       "      <td>10</td>\n",
       "      <td>81.0</td>\n",
       "      <td>45</td>\n",
       "      <td>B</td>\n",
       "    </tr>\n",
       "    <tr>\n",
       "      <th>10</th>\n",
       "      <td>11</td>\n",
       "      <td>42.0</td>\n",
       "      <td>22</td>\n",
       "      <td>A</td>\n",
       "    </tr>\n",
       "    <tr>\n",
       "      <th>11</th>\n",
       "      <td>12</td>\n",
       "      <td>56.0</td>\n",
       "      <td>35</td>\n",
       "      <td>C</td>\n",
       "    </tr>\n",
       "    <tr>\n",
       "      <th>12</th>\n",
       "      <td>13</td>\n",
       "      <td>33.0</td>\n",
       "      <td>67</td>\n",
       "      <td>A</td>\n",
       "    </tr>\n",
       "    <tr>\n",
       "      <th>13</th>\n",
       "      <td>14</td>\n",
       "      <td>21.0</td>\n",
       "      <td>12</td>\n",
       "      <td>C</td>\n",
       "    </tr>\n",
       "    <tr>\n",
       "      <th>14</th>\n",
       "      <td>15</td>\n",
       "      <td>78.0</td>\n",
       "      <td>14</td>\n",
       "      <td>C</td>\n",
       "    </tr>\n",
       "  </tbody>\n",
       "</table>\n",
       "</div>"
      ],
      "text/plain": [
       "    SL.No  Attribute A  Attribute B Attribute C\n",
       "0       1         12.0           44           A\n",
       "1       2         42.0           22           B\n",
       "2       3         31.0           13           A\n",
       "3       4         19.0           13           C\n",
       "4       5         22.0           24           A\n",
       "5       6         42.0           45           C\n",
       "6       7         41.0           21           C\n",
       "7       8         22.0           78           B\n",
       "8       9         90.0           21          42\n",
       "9      10         81.0           45           B\n",
       "10     11         42.0           22           A\n",
       "11     12         56.0           35           C\n",
       "12     13         33.0           67           A\n",
       "13     14         21.0           12           C\n",
       "14     15         78.0           14           C"
      ]
     },
     "execution_count": 42,
     "metadata": {},
     "output_type": "execute_result"
    }
   ],
   "source": [
    "df.fillna(int(df[\"Attribute A\"].mean()))"
   ]
  },
  {
   "cell_type": "code",
   "execution_count": 62,
   "id": "e09e48b2",
   "metadata": {},
   "outputs": [
    {
     "data": {
      "text/plain": [
       "array([[0.77085409, 0.48493107, 0.02911156, 0.08652569]])"
      ]
     },
     "execution_count": 62,
     "metadata": {},
     "output_type": "execute_result"
    }
   ],
   "source": [
    "np.random.rand(1,4)"
   ]
  },
  {
   "cell_type": "code",
   "execution_count": 76,
   "id": "9bef924b",
   "metadata": {},
   "outputs": [],
   "source": [
    "x= [1,2,3,4,5]\n",
    "p = np.array(x)"
   ]
  },
  {
   "cell_type": "code",
   "execution_count": 91,
   "id": "d89ac070",
   "metadata": {},
   "outputs": [
    {
     "data": {
      "text/html": [
       "<div>\n",
       "<style scoped>\n",
       "    .dataframe tbody tr th:only-of-type {\n",
       "        vertical-align: middle;\n",
       "    }\n",
       "\n",
       "    .dataframe tbody tr th {\n",
       "        vertical-align: top;\n",
       "    }\n",
       "\n",
       "    .dataframe thead th {\n",
       "        text-align: right;\n",
       "    }\n",
       "</style>\n",
       "<table border=\"1\" class=\"dataframe\">\n",
       "  <thead>\n",
       "    <tr style=\"text-align: right;\">\n",
       "      <th></th>\n",
       "      <th>SL.No</th>\n",
       "      <th>Attribute A</th>\n",
       "      <th>Attribute B</th>\n",
       "      <th>Attribute C</th>\n",
       "    </tr>\n",
       "  </thead>\n",
       "  <tbody>\n",
       "    <tr>\n",
       "      <th>8</th>\n",
       "      <td>9</td>\n",
       "      <td>90.0</td>\n",
       "      <td>21</td>\n",
       "      <td>NaN</td>\n",
       "    </tr>\n",
       "    <tr>\n",
       "      <th>9</th>\n",
       "      <td>10</td>\n",
       "      <td>81.0</td>\n",
       "      <td>45</td>\n",
       "      <td>B</td>\n",
       "    </tr>\n",
       "    <tr>\n",
       "      <th>10</th>\n",
       "      <td>11</td>\n",
       "      <td>NaN</td>\n",
       "      <td>22</td>\n",
       "      <td>A</td>\n",
       "    </tr>\n",
       "  </tbody>\n",
       "</table>\n",
       "</div>"
      ],
      "text/plain": [
       "    SL.No  Attribute A  Attribute B Attribute C\n",
       "8       9         90.0           21         NaN\n",
       "9      10         81.0           45           B\n",
       "10     11          NaN           22           A"
      ]
     },
     "execution_count": 91,
     "metadata": {},
     "output_type": "execute_result"
    }
   ],
   "source": [
    "df.head(11).tail(3)"
   ]
  },
  {
   "cell_type": "code",
   "execution_count": 135,
   "id": "8afeffce",
   "metadata": {},
   "outputs": [
    {
     "name": "stdout",
     "output_type": "stream",
     "text": [
      "<class 'tuple'> (3, 3)\n"
     ]
    }
   ],
   "source": [
    "x = ((1,2,3),(1,3,2),(1,9,3))\n",
    "print(type(x),np.shape(x))"
   ]
  },
  {
   "cell_type": "code",
   "execution_count": 110,
   "id": "9a15d4b1",
   "metadata": {},
   "outputs": [],
   "source": [
    "def create_numpy_ones_array(shape):\n",
    "    w = np.ones(np.shape(shape))\n",
    "    return w"
   ]
  },
  {
   "cell_type": "code",
   "execution_count": 111,
   "id": "ed34beac",
   "metadata": {},
   "outputs": [
    {
     "data": {
      "text/plain": [
       "array([[1., 1., 1., 1., 1.],\n",
       "       [1., 1., 1., 1., 1.]])"
      ]
     },
     "execution_count": 111,
     "metadata": {},
     "output_type": "execute_result"
    }
   ],
   "source": [
    "create_numpy_ones_array(x)"
   ]
  },
  {
   "cell_type": "code",
   "execution_count": 117,
   "id": "4ce406c6",
   "metadata": {},
   "outputs": [],
   "source": [
    "def create_numpy_zeroes_array(shape):\n",
    "    w = np.zeros(np.shape(shape))\n",
    "    return w"
   ]
  },
  {
   "cell_type": "code",
   "execution_count": 118,
   "id": "ad7f61c5",
   "metadata": {},
   "outputs": [
    {
     "data": {
      "text/plain": [
       "array([[0., 0., 0., 0., 0.],\n",
       "       [0., 0., 0., 0., 0.]])"
      ]
     },
     "execution_count": 118,
     "metadata": {},
     "output_type": "execute_result"
    }
   ],
   "source": [
    "create_numpy_zeroes_array(x)"
   ]
  },
  {
   "cell_type": "code",
   "execution_count": 119,
   "id": "05ed6983",
   "metadata": {},
   "outputs": [],
   "source": [
    "def create_identity_numpy_array(order):\n",
    "    w = np.identity(order)\n",
    "    return w"
   ]
  },
  {
   "cell_type": "code",
   "execution_count": 120,
   "id": "11858a93",
   "metadata": {},
   "outputs": [
    {
     "data": {
      "text/plain": [
       "array([[1., 0., 0.],\n",
       "       [0., 1., 0.],\n",
       "       [0., 0., 1.]])"
      ]
     },
     "execution_count": 120,
     "metadata": {},
     "output_type": "execute_result"
    }
   ],
   "source": [
    "create_identity_numpy_array(3)"
   ]
  },
  {
   "cell_type": "code",
   "execution_count": 131,
   "id": "f5fafabe",
   "metadata": {},
   "outputs": [],
   "source": [
    "def matrix_cofactor(array):\n",
    "    w = np.linalg.det(array) * np.linalg.inv(array)\n",
    "    return np.transpose(w)"
   ]
  },
  {
   "cell_type": "code",
   "execution_count": 136,
   "id": "3e28e36d",
   "metadata": {},
   "outputs": [
    {
     "data": {
      "text/plain": [
       "array([[-9., -1.,  6.],\n",
       "       [21.,  0., -7.],\n",
       "       [-5.,  1.,  1.]])"
      ]
     },
     "execution_count": 136,
     "metadata": {},
     "output_type": "execute_result"
    }
   ],
   "source": [
    "matrix_cofactor(x)"
   ]
  },
  {
   "cell_type": "code",
   "execution_count": 151,
   "id": "f251143c",
   "metadata": {},
   "outputs": [
    {
     "name": "stdout",
     "output_type": "stream",
     "text": [
      "[[0.47282816 0.65227079 0.24185905]\n",
      " [0.03113006 0.54423235 0.36471018]\n",
      " [0.89233328 0.45934559 0.4186541 ]] \n",
      " [[0.47282816 0.65227079 0.24185905]\n",
      " [0.03113006 0.54423235 0.36471018]\n",
      " [0.89233328 0.45934559 0.4186541 ]]\n"
     ]
    }
   ],
   "source": [
    "q = np.random.rand(*np.shape(x))\n",
    "l =q**2\n",
    "print(q,'\\n', l**0.5)\n"
   ]
  },
  {
   "cell_type": "code",
   "execution_count": 152,
   "id": "c1b750bd",
   "metadata": {},
   "outputs": [
    {
     "data": {
      "text/html": [
       "<div>\n",
       "<style scoped>\n",
       "    .dataframe tbody tr th:only-of-type {\n",
       "        vertical-align: middle;\n",
       "    }\n",
       "\n",
       "    .dataframe tbody tr th {\n",
       "        vertical-align: top;\n",
       "    }\n",
       "\n",
       "    .dataframe thead th {\n",
       "        text-align: right;\n",
       "    }\n",
       "</style>\n",
       "<table border=\"1\" class=\"dataframe\">\n",
       "  <thead>\n",
       "    <tr style=\"text-align: right;\">\n",
       "      <th></th>\n",
       "      <th>SL.No</th>\n",
       "      <th>Attribute A</th>\n",
       "      <th>Attribute B</th>\n",
       "      <th>Attribute C</th>\n",
       "    </tr>\n",
       "  </thead>\n",
       "  <tbody>\n",
       "    <tr>\n",
       "      <th>0</th>\n",
       "      <td>1</td>\n",
       "      <td>12.0</td>\n",
       "      <td>44</td>\n",
       "      <td>A</td>\n",
       "    </tr>\n",
       "    <tr>\n",
       "      <th>1</th>\n",
       "      <td>2</td>\n",
       "      <td>NaN</td>\n",
       "      <td>22</td>\n",
       "      <td>B</td>\n",
       "    </tr>\n",
       "    <tr>\n",
       "      <th>2</th>\n",
       "      <td>3</td>\n",
       "      <td>31.0</td>\n",
       "      <td>13</td>\n",
       "      <td>A</td>\n",
       "    </tr>\n",
       "    <tr>\n",
       "      <th>3</th>\n",
       "      <td>4</td>\n",
       "      <td>19.0</td>\n",
       "      <td>13</td>\n",
       "      <td>C</td>\n",
       "    </tr>\n",
       "    <tr>\n",
       "      <th>4</th>\n",
       "      <td>5</td>\n",
       "      <td>22.0</td>\n",
       "      <td>24</td>\n",
       "      <td>A</td>\n",
       "    </tr>\n",
       "  </tbody>\n",
       "</table>\n",
       "</div>"
      ],
      "text/plain": [
       "   SL.No  Attribute A  Attribute B Attribute C\n",
       "0      1         12.0           44           A\n",
       "1      2          NaN           22           B\n",
       "2      3         31.0           13           A\n",
       "3      4         19.0           13           C\n",
       "4      5         22.0           24           A"
      ]
     },
     "execution_count": 152,
     "metadata": {},
     "output_type": "execute_result"
    }
   ],
   "source": [
    "df.head()\n"
   ]
  },
  {
   "cell_type": "code",
   "execution_count": 159,
   "id": "3f532e1d",
   "metadata": {},
   "outputs": [],
   "source": [
    "for colname in df.columns:\n",
    "    df[colname] = df[colname].fillna(df[colname].mode()[0])"
   ]
  },
  {
   "cell_type": "code",
   "execution_count": 163,
   "id": "25ec8d75",
   "metadata": {},
   "outputs": [
    {
     "data": {
      "text/html": [
       "<div>\n",
       "<style scoped>\n",
       "    .dataframe tbody tr th:only-of-type {\n",
       "        vertical-align: middle;\n",
       "    }\n",
       "\n",
       "    .dataframe tbody tr th {\n",
       "        vertical-align: top;\n",
       "    }\n",
       "\n",
       "    .dataframe thead th {\n",
       "        text-align: right;\n",
       "    }\n",
       "</style>\n",
       "<table border=\"1\" class=\"dataframe\">\n",
       "  <thead>\n",
       "    <tr style=\"text-align: right;\">\n",
       "      <th></th>\n",
       "      <th>SL.No</th>\n",
       "      <th>Attribute A</th>\n",
       "      <th>Attribute B</th>\n",
       "      <th>Attribute C</th>\n",
       "    </tr>\n",
       "  </thead>\n",
       "  <tbody>\n",
       "    <tr>\n",
       "      <th>0</th>\n",
       "      <td>1</td>\n",
       "      <td>12.0</td>\n",
       "      <td>44</td>\n",
       "      <td>A</td>\n",
       "    </tr>\n",
       "    <tr>\n",
       "      <th>1</th>\n",
       "      <td>2</td>\n",
       "      <td>NaN</td>\n",
       "      <td>22</td>\n",
       "      <td>B</td>\n",
       "    </tr>\n",
       "    <tr>\n",
       "      <th>2</th>\n",
       "      <td>3</td>\n",
       "      <td>31.0</td>\n",
       "      <td>13</td>\n",
       "      <td>A</td>\n",
       "    </tr>\n",
       "    <tr>\n",
       "      <th>3</th>\n",
       "      <td>4</td>\n",
       "      <td>19.0</td>\n",
       "      <td>13</td>\n",
       "      <td>C</td>\n",
       "    </tr>\n",
       "    <tr>\n",
       "      <th>4</th>\n",
       "      <td>5</td>\n",
       "      <td>22.0</td>\n",
       "      <td>24</td>\n",
       "      <td>A</td>\n",
       "    </tr>\n",
       "    <tr>\n",
       "      <th>5</th>\n",
       "      <td>6</td>\n",
       "      <td>NaN</td>\n",
       "      <td>45</td>\n",
       "      <td>C</td>\n",
       "    </tr>\n",
       "    <tr>\n",
       "      <th>6</th>\n",
       "      <td>7</td>\n",
       "      <td>41.0</td>\n",
       "      <td>21</td>\n",
       "      <td>C</td>\n",
       "    </tr>\n",
       "    <tr>\n",
       "      <th>7</th>\n",
       "      <td>8</td>\n",
       "      <td>22.0</td>\n",
       "      <td>78</td>\n",
       "      <td>B</td>\n",
       "    </tr>\n",
       "    <tr>\n",
       "      <th>8</th>\n",
       "      <td>9</td>\n",
       "      <td>90.0</td>\n",
       "      <td>21</td>\n",
       "      <td>NaN</td>\n",
       "    </tr>\n",
       "    <tr>\n",
       "      <th>9</th>\n",
       "      <td>10</td>\n",
       "      <td>81.0</td>\n",
       "      <td>45</td>\n",
       "      <td>B</td>\n",
       "    </tr>\n",
       "    <tr>\n",
       "      <th>10</th>\n",
       "      <td>11</td>\n",
       "      <td>NaN</td>\n",
       "      <td>22</td>\n",
       "      <td>A</td>\n",
       "    </tr>\n",
       "    <tr>\n",
       "      <th>11</th>\n",
       "      <td>12</td>\n",
       "      <td>56.0</td>\n",
       "      <td>35</td>\n",
       "      <td>C</td>\n",
       "    </tr>\n",
       "    <tr>\n",
       "      <th>12</th>\n",
       "      <td>13</td>\n",
       "      <td>33.0</td>\n",
       "      <td>67</td>\n",
       "      <td>A</td>\n",
       "    </tr>\n",
       "    <tr>\n",
       "      <th>13</th>\n",
       "      <td>14</td>\n",
       "      <td>21.0</td>\n",
       "      <td>12</td>\n",
       "      <td>C</td>\n",
       "    </tr>\n",
       "    <tr>\n",
       "      <th>14</th>\n",
       "      <td>15</td>\n",
       "      <td>78.0</td>\n",
       "      <td>14</td>\n",
       "      <td>C</td>\n",
       "    </tr>\n",
       "  </tbody>\n",
       "</table>\n",
       "</div>"
      ],
      "text/plain": [
       "    SL.No  Attribute A  Attribute B Attribute C\n",
       "0       1         12.0           44           A\n",
       "1       2          NaN           22           B\n",
       "2       3         31.0           13           A\n",
       "3       4         19.0           13           C\n",
       "4       5         22.0           24           A\n",
       "5       6          NaN           45           C\n",
       "6       7         41.0           21           C\n",
       "7       8         22.0           78           B\n",
       "8       9         90.0           21         NaN\n",
       "9      10         81.0           45           B\n",
       "10     11          NaN           22           A\n",
       "11     12         56.0           35           C\n",
       "12     13         33.0           67           A\n",
       "13     14         21.0           12           C\n",
       "14     15         78.0           14           C"
      ]
     },
     "execution_count": 163,
     "metadata": {},
     "output_type": "execute_result"
    }
   ],
   "source": [
    "df.head(15)\n"
   ]
  },
  {
   "cell_type": "code",
   "execution_count": null,
   "id": "dde5775b",
   "metadata": {},
   "outputs": [],
   "source": []
  }
 ],
 "metadata": {
  "kernelspec": {
   "display_name": "Python 3 (ipykernel)",
   "language": "python",
   "name": "python3"
  },
  "language_info": {
   "codemirror_mode": {
    "name": "ipython",
    "version": 3
   },
   "file_extension": ".py",
   "mimetype": "text/x-python",
   "name": "python",
   "nbconvert_exporter": "python",
   "pygments_lexer": "ipython3",
   "version": "3.8.8"
  }
 },
 "nbformat": 4,
 "nbformat_minor": 5
}
